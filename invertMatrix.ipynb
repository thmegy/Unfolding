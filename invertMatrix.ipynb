{
 "cells": [
  {
   "cell_type": "code",
   "execution_count": 1,
   "metadata": {},
   "outputs": [],
   "source": [
    "import numpy as np\n",
    "from scipy import linalg"
   ]
  },
  {
   "cell_type": "code",
   "execution_count": 3,
   "metadata": {},
   "outputs": [],
   "source": [
    "singletop = np.array([ 101.37086908856968, 808.5293087980967, 761.2570155380255, 75.97198724308758 ])\n",
    "diboson = np.array([ 1.532367314085372, 7.92693675411985, 6.228864566173234, 0.7894609107137743 ])\n",
    "Zjets = np.array([ 0.5030141212221488, 9.005642204433949, 11.618894154566782, 1.5494377296955535 ])\n",
    "Wjets = np.array([ 0.3005925793318794, 1.1012577062095414, 0.2032610722138491, 0.0 ])\n",
    "fakes = np.array([ 34.06869011796153, 285.1151139812237, 284.854298468886, 33.55398444674299 ])"
   ]
  },
  {
   "cell_type": "code",
   "execution_count": 29,
   "metadata": {},
   "outputs": [],
   "source": [
    "resmat = np.array([\n",
    "    [ 5.467058118737028e-06, 7.85700845365062e-06, 2.3048969168730623e-06, 1.2793930093490808e-07 ],\n",
    "    [ 1.2230102045431043e-06, 1.5657836352845326e-05, 8.562169815249333e-06, 5.203917680089867e-07 ],\n",
    "    [ 3.5229108113972104e-07, 8.881298108116627e-06, 1.608200646012806e-05, 1.5897931759550747e-06 ],\n",
    "    [ 1.0788243328012291e-07, 3.1733972650711483e-06, 1.0273123134848092e-05, 6.360727210688817e-06 ]\n",
    "]\n",
    ")\n",
    "data = np.array([ 3953.705758824648, 37559.65634075853, 36255.903983566976, 4112.605139550691 ])\n",
    "data_rw00 = np.array([ 3545.7287369572014, 36668.992745156975, 37488.62421371005, 4631.192764052826 ])"
   ]
  },
  {
   "cell_type": "code",
   "execution_count": 30,
   "metadata": {},
   "outputs": [],
   "source": [
    "ttbar = data - singletop - diboson - Zjets - Wjets - fakes\n",
    "ttbar_rw00 = data_rw00 - singletop - diboson - Zjets - Wjets - fakes"
   ]
  },
  {
   "cell_type": "code",
   "execution_count": 31,
   "metadata": {},
   "outputs": [
    {
     "name": "stdout",
     "output_type": "stream",
     "text": [
      "[2.94286505e+08 1.42281453e+09 1.26725815e+09 1.89913841e+08]\n",
      "[2.32906314e+08 1.33145070e+09 1.35823044e+09 2.57415308e+08]\n"
     ]
    }
   ],
   "source": [
    "truth = linalg.solve(resmat.T, ttbar)\n",
    "print(truth)\n",
    "truth_rw00 = linalg.solve(resmat.T, ttbar_rw00)\n",
    "print(truth_rw00)"
   ]
  },
  {
   "cell_type": "code",
   "execution_count": 23,
   "metadata": {},
   "outputs": [
    {
     "data": {
      "text/plain": [
       "True"
      ]
     },
     "execution_count": 23,
     "metadata": {},
     "output_type": "execute_result"
    }
   ],
   "source": [
    "np.allclose(truth @ resmat - ttbar, 0)"
   ]
  },
  {
   "cell_type": "code",
   "execution_count": 32,
   "metadata": {},
   "outputs": [
    {
     "name": "stdout",
     "output_type": "stream",
     "text": [
      "0.33220751290910006\n",
      "-0.07097167772705866\n"
     ]
    }
   ],
   "source": [
    "x = np.array([-0.75, -0.25, 0.25, 0.75])\n",
    "corr = -9 * np.sum(truth * x) / np.sum(truth)\n",
    "corr_rw00 = -9 * np.sum(truth_rw00 * x) / np.sum(truth_rw00)\n",
    "print(corr)\n",
    "print(corr_rw00)"
   ]
  },
  {
   "cell_type": "code",
   "execution_count": 4,
   "metadata": {},
   "outputs": [],
   "source": [
    "resmat = np.array([\n",
    "    [ 1.8910228799496022e-05, 4.279497080945876e-06, 2.241322476197443e-06, 4.127351215117905e-06 ],\n",
    "    [ 5.307771667060071e-06, 8.03574122224043e-06, 4.181443309378539e-06, 2.6709843899800632e-06 ],\n",
    "    [ 2.681632337210782e-06, 4.181816581038196e-06, 8.073637985764411e-06, 5.312662218228923e-06 ],\n",
    "    [ 4.126559922165243e-06, 2.2590259776820284e-06, 4.275620447085394e-06, 1.8932116269361334e-05 ]\n",
    "]\n",
    ")\n",
    "data = np.array([ 24636.523496581398, 14878.040254917081, 14890.266212322726, 24652.683463182377 ])"
   ]
  },
  {
   "cell_type": "code",
   "execution_count": 6,
   "metadata": {},
   "outputs": [
    {
     "name": "stdout",
     "output_type": "stream",
     "text": [
      "[7.94558444e+08 7.92562301e+08 7.92354207e+08 7.94778021e+08]\n"
     ]
    }
   ],
   "source": [
    "truth = linalg.solve(resmat.T, data)\n",
    "print(truth)"
   ]
  },
  {
   "cell_type": "code",
   "execution_count": 7,
   "metadata": {},
   "outputs": [
    {
     "data": {
      "text/plain": [
       "True"
      ]
     },
     "execution_count": 7,
     "metadata": {},
     "output_type": "execute_result"
    }
   ],
   "source": [
    "np.allclose(truth @ resmat - data, 0)"
   ]
  }
 ],
 "metadata": {
  "kernelspec": {
   "display_name": "Python 3",
   "language": "python",
   "name": "python3"
  },
  "language_info": {
   "codemirror_mode": {
    "name": "ipython",
    "version": 3
   },
   "file_extension": ".py",
   "mimetype": "text/x-python",
   "name": "python",
   "nbconvert_exporter": "python",
   "pygments_lexer": "ipython3",
   "version": "3.7.9"
  }
 },
 "nbformat": 4,
 "nbformat_minor": 4
}
