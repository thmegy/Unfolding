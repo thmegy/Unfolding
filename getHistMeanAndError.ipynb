{
 "cells": [
  {
   "cell_type": "code",
   "execution_count": 1,
   "metadata": {},
   "outputs": [],
   "source": [
    "import numpy as np\n",
    "import scipy\n",
    "import scipy.stats\n",
    "import matplotlib.pyplot as plt"
   ]
  },
  {
   "cell_type": "code",
   "execution_count": 2,
   "metadata": {},
   "outputs": [],
   "source": [
    "unfolded_hist = [294294487.7820, 1422794311.4209, 1267269580.9909, 189908079.2521]\n",
    "unfolded_err = [13746458.8467, 24786600.0371, 25090475.6108, 12927823.1242]\n",
    "x = [-0.75, -0.25, 0.25, 0.75]"
   ]
  },
  {
   "cell_type": "code",
   "execution_count": 6,
   "metadata": {},
   "outputs": [],
   "source": [
    "unfolded_hist = [294285662.50263321,1422808528.5377178,1267256904.8604925,189913774.63168541]\n",
    "unfolded_err = [13693162.995491266,24030723.547464371,23915860.024013042,12560485.665119439]\n",
    "x = [-0.75, -0.25, 0.25, 0.75]"
   ]
  },
  {
   "cell_type": "code",
   "execution_count": 3,
   "metadata": {},
   "outputs": [],
   "source": [
    "corrmat = np.array([[1.0000, -0.7493, 0.5215, -0.3097],\n",
    "                    [-0.7493, 1.0000, -0.8391, 0.5517],\n",
    "                    [0.5215, -0.8391, 1.0000, -0.8029], \n",
    "                    [-0.3097, 0.5517, -0.8029, 1.0000]])"
   ]
  },
  {
   "cell_type": "markdown",
   "metadata": {},
   "source": [
    "# Monte Carlo method with numpy (no correlations)"
   ]
  },
  {
   "cell_type": "code",
   "execution_count": 5,
   "metadata": {},
   "outputs": [],
   "source": [
    "rdm_bin = []\n",
    "for bin_val, bin_err in zip(unfolded_hist, unfolded_err):\n",
    "    rdm_bin.append( np.random.normal(bin_val, bin_err, 100000) )"
   ]
  },
  {
   "cell_type": "code",
   "execution_count": 6,
   "metadata": {},
   "outputs": [
    {
     "data": {
      "text/plain": [
       "[array([3.05783405e+08, 2.65093521e+08, 2.94120569e+08, ...,\n",
       "        3.01495119e+08, 3.03136432e+08, 3.01490511e+08]),\n",
       " array([1.43815305e+09, 1.42502343e+09, 1.42564706e+09, ...,\n",
       "        1.41348670e+09, 1.39642591e+09, 1.41015250e+09]),\n",
       " array([1.27671997e+09, 1.24144777e+09, 1.22760861e+09, ...,\n",
       "        1.25819126e+09, 1.24091514e+09, 1.22788950e+09]),\n",
       " array([1.89412336e+08, 1.95860784e+08, 1.84936306e+08, ...,\n",
       "        1.87062280e+08, 2.09093242e+08, 1.83578233e+08])]"
      ]
     },
     "execution_count": 6,
     "metadata": {},
     "output_type": "execute_result"
    }
   ],
   "source": [
    "rdm_bin"
   ]
  },
  {
   "cell_type": "code",
   "execution_count": 7,
   "metadata": {},
   "outputs": [],
   "source": [
    "for i in range(len(x)):\n",
    "    if i==0:\n",
    "        sum_bin = np.copy(rdm_bin[0])\n",
    "    else:\n",
    "        sum_bin += rdm_bin[i]\n",
    "    rdm_bin[i] *= x[i]"
   ]
  },
  {
   "cell_type": "code",
   "execution_count": 8,
   "metadata": {},
   "outputs": [
    {
     "data": {
      "text/plain": [
       "array([3.21006876e+09, 3.12742551e+09, 3.13231254e+09, ...,\n",
       "       3.16023535e+09, 3.14957073e+09, 3.12311075e+09])"
      ]
     },
     "execution_count": 8,
     "metadata": {},
     "output_type": "execute_result"
    }
   ],
   "source": [
    "sum_bin"
   ]
  },
  {
   "cell_type": "code",
   "execution_count": 9,
   "metadata": {},
   "outputs": [
    {
     "data": {
      "text/plain": [
       "[array([-2.29337554e+08, -1.98820141e+08, -2.20590426e+08, ...,\n",
       "        -2.26121339e+08, -2.27352324e+08, -2.26117883e+08]),\n",
       " array([-3.59538262e+08, -3.56255858e+08, -3.56411765e+08, ...,\n",
       "        -3.53371674e+08, -3.49106477e+08, -3.52538124e+08]),\n",
       " array([3.19179992e+08, 3.10361943e+08, 3.06902153e+08, ...,\n",
       "        3.14547814e+08, 3.10228786e+08, 3.06972376e+08]),\n",
       " array([1.42059252e+08, 1.46895588e+08, 1.38702230e+08, ...,\n",
       "        1.40296710e+08, 1.56819932e+08, 1.37683675e+08])]"
      ]
     },
     "execution_count": 9,
     "metadata": {},
     "output_type": "execute_result"
    }
   ],
   "source": [
    "rdm_bin"
   ]
  },
  {
   "cell_type": "code",
   "execution_count": 10,
   "metadata": {},
   "outputs": [],
   "source": [
    "mean = sum(rdm_bin) / sum_bin"
   ]
  },
  {
   "cell_type": "code",
   "execution_count": 11,
   "metadata": {},
   "outputs": [
    {
     "data": {
      "text/plain": [
       "0.3323202147394761"
      ]
     },
     "execution_count": 11,
     "metadata": {},
     "output_type": "execute_result"
    }
   ],
   "source": [
    "-9*np.mean(mean)"
   ]
  },
  {
   "cell_type": "code",
   "execution_count": 12,
   "metadata": {},
   "outputs": [
    {
     "data": {
      "text/plain": [
       "-0.04733508338620687"
      ]
     },
     "execution_count": 12,
     "metadata": {},
     "output_type": "execute_result"
    }
   ],
   "source": [
    "-9*np.std(mean)"
   ]
  },
  {
   "cell_type": "markdown",
   "metadata": {},
   "source": [
    "# With uncertainties package"
   ]
  },
  {
   "cell_type": "code",
   "execution_count": 13,
   "metadata": {},
   "outputs": [],
   "source": [
    "import uncertainties as unc\n",
    "\n",
    "bin1 = unc.ufloat( 294294487.7820, 13746458.8467 )\n",
    "bin2 = unc.ufloat( 1422794311.4209, 24786600.0371 )\n",
    "bin3 = unc.ufloat( 1267269580.9909, 25090475.6108 )\n",
    "bin4 = unc.ufloat( 189908079.2521, 12927823.1242 )"
   ]
  },
  {
   "cell_type": "code",
   "execution_count": 14,
   "metadata": {},
   "outputs": [],
   "source": [
    "bins = np.array([bin1, bin2, bin3, bin4])"
   ]
  },
  {
   "cell_type": "code",
   "execution_count": 15,
   "metadata": {},
   "outputs": [
    {
     "data": {
      "text/plain": [
       "0.33221499030311574+/-0.04738411871603936"
      ]
     },
     "execution_count": 15,
     "metadata": {},
     "output_type": "execute_result"
    }
   ],
   "source": [
    "-9*np.sum(bins*x)/np.sum(bins)"
   ]
  },
  {
   "cell_type": "code",
   "execution_count": 18,
   "metadata": {},
   "outputs": [],
   "source": [
    "bins = np.array(unc.correlated_values_norm([( 294294487.7820, 13746458.8467 ),\n",
    "                                ( 1422794311.4209, 24786600.0371 ),\n",
    "                                ( 1267269580.9909, 25090475.6108 ),\n",
    "                                ( 189908079.2521, 12927823.1242 )],\n",
    "                              corrmat)\n",
    "               )"
   ]
  },
  {
   "cell_type": "code",
   "execution_count": 19,
   "metadata": {},
   "outputs": [],
   "source": [
    "corrkk = -9*np.sum(bins*x)/np.sum(bins)"
   ]
  },
  {
   "cell_type": "code",
   "execution_count": 20,
   "metadata": {},
   "outputs": [
    {
     "data": {
      "text/plain": [
       "0.33221499030311574+/-0.0248472912355645"
      ]
     },
     "execution_count": 20,
     "metadata": {},
     "output_type": "execute_result"
    }
   ],
   "source": [
    "corrkk"
   ]
  },
  {
   "cell_type": "markdown",
   "metadata": {},
   "source": [
    "# Monte Carlo method with multivariate gaussian"
   ]
  },
  {
   "cell_type": "code",
   "execution_count": 7,
   "metadata": {},
   "outputs": [],
   "source": [
    "unfolded_hist = np.array(unfolded_hist)\n",
    "unfolded_err = np.array(unfolded_err)\n",
    "x = np.array(x)\n",
    "covmat = (corrmat.T * unfolded_err).T * unfolded_err\n",
    "\n",
    "pdf = scipy.stats.multivariate_normal(mean=unfolded_hist, cov=covmat)"
   ]
  },
  {
   "cell_type": "code",
   "execution_count": 8,
   "metadata": {},
   "outputs": [
    {
     "name": "stdout",
     "output_type": "stream",
     "text": [
      "0.33216833335264334 +- -0.030883759593904186\n"
     ]
    }
   ],
   "source": [
    "mc = pdf.rvs(1000000)\n",
    "mean_mc = np.sum(mc * x, axis=1) / np.sum(mc, axis=1)\n",
    "print('{} +- {}'.format(-9*np.mean(mean_mc), -9*np.std(mean_mc)))"
   ]
  },
  {
   "cell_type": "markdown",
   "metadata": {},
   "source": [
    "# Asymmetric gaussian"
   ]
  },
  {
   "cell_type": "markdown",
   "metadata": {},
   "source": [
    "## 1D"
   ]
  },
  {
   "cell_type": "code",
   "execution_count": 57,
   "metadata": {},
   "outputs": [
    {
     "data": {
      "text/plain": [
       "0.19999999999999996"
      ]
     },
     "execution_count": 57,
     "metadata": {},
     "output_type": "execute_result"
    }
   ],
   "source": [
    "central_value = 1.\n",
    "uncert_up = 0.3\n",
    "uncert_down = 0.2\n",
    "(0.3-0.2)/0.5"
   ]
  },
  {
   "cell_type": "code",
   "execution_count": 84,
   "metadata": {},
   "outputs": [],
   "source": [
    "mc = scipy.stats.skewnorm.rvs(0, loc=0, scale=1, size=100000)\n",
    "mc2 = scipy.stats.skewnorm.rvs(1, loc=0, scale=1, size=100000)"
   ]
  },
  {
   "cell_type": "code",
   "execution_count": 85,
   "metadata": {},
   "outputs": [
    {
     "data": {
      "image/png": "[encoded data removed]",
      "text/plain": [
       "<Figure size 432x288 with 1 Axes>"
      ]
     },
     "metadata": {
      "needs_background": "light"
     },
     "output_type": "display_data"
    }
   ],
   "source": [
    "hist = plt.hist(mc, bins=50)\n",
    "hist = plt.hist(mc2, bins=50, alpha=0.5)"
   ]
  },
  {
   "cell_type": "code",
   "execution_count": 86,
   "metadata": {},
   "outputs": [
    {
     "data": {
      "text/plain": [
       "(-0.005139325932546259, 1.0008204723753642)"
      ]
     },
     "execution_count": 86,
     "metadata": {},
     "output_type": "execute_result"
    }
   ],
   "source": [
    "np.mean(mc), np.std(mc)"
   ]
  },
  {
   "cell_type": "code",
   "execution_count": 3,
   "metadata": {},
   "outputs": [
    {
     "data": {
      "text/plain": [
       "(-0.6864288456473889, 2.0050777211856503)"
      ]
     },
     "execution_count": 3,
     "metadata": {},
     "output_type": "execute_result"
    }
   ],
   "source": [
    "scipy.stats.skewnorm(0.66, scale=1.5).interval(0.6827)"
   ]
  },
  {
   "cell_type": "code",
   "execution_count": 88,
   "metadata": {},
   "outputs": [
    {
     "data": {
      "text/plain": [
       "1.345315411228841"
      ]
     },
     "execution_count": 88,
     "metadata": {},
     "output_type": "execute_result"
    }
   ],
   "source": [
    "scipy.stats.skewnorm.std( 0.666, scale=1.5)"
   ]
  },
  {
   "cell_type": "code",
   "execution_count": 89,
   "metadata": {},
   "outputs": [
    {
     "data": {
      "text/plain": [
       "0.66342026220954"
      ]
     },
     "execution_count": 89,
     "metadata": {},
     "output_type": "execute_result"
    }
   ],
   "source": [
    "scipy.stats.skewnorm.mean( 0.666, scale=1.5)"
   ]
  },
  {
   "cell_type": "code",
   "execution_count": 6,
   "metadata": {
    "scrolled": true
   },
   "outputs": [
    {
     "data": {
      "text/plain": [
       "0.6518074688618989"
      ]
     },
     "execution_count": 6,
     "metadata": {},
     "output_type": "execute_result"
    }
   ],
   "source": [
    "scipy.stats.skewnorm.median( 0.666, scale=1.5)"
   ]
  },
  {
   "cell_type": "code",
   "execution_count": 14,
   "metadata": {},
   "outputs": [
    {
     "data": {
      "text/plain": [
       "1.3103706971183726"
      ]
     },
     "execution_count": 14,
     "metadata": {},
     "output_type": "execute_result"
    }
   ],
   "source": [
    "sk = scipy.stats.skewnorm(0.666, scale=1.5)\n",
    "sk.moment(2)**(1/3)"
   ]
  },
  {
   "cell_type": "code",
   "execution_count": 98,
   "metadata": {},
   "outputs": [
    {
     "data": {
      "text/plain": [
       "(0.20393314588624645, -0.0033728122180240044, 1.0006202008924188)"
      ]
     },
     "execution_count": 98,
     "metadata": {},
     "output_type": "execute_result"
    }
   ],
   "source": [
    "mc = scipy.stats.skewnorm(0.2, loc=0, scale=1).rvs(10000000)\n",
    "scipy.stats.skewnorm.fit(mc)"
   ]
  },
  {
   "cell_type": "markdown",
   "metadata": {},
   "source": [
    "## Multi-dimensional"
   ]
  },
  {
   "cell_type": "code",
   "execution_count": null,
   "metadata": {},
   "outputs": [],
   "source": [
    "Non-central moment of order n#class multivariate_skew_normal():\n",
    "#    def __init__(self, loc, sigplus, sigminus, corrmat):\n",
    "#        self.loc = loc\n",
    "#        self.corrmat = corrmat\n",
    "#        self.skew = (sigplus-sigminus) / (sigplus+sigminus)\n",
    "#        self.scale = (sigplus+sigminus) / 2\n",
    "#\n",
    "#    def logpdf(self, x):\n",
    "#        if x.shape == (x.shape[0],):\n",
    "#            y = (x-self.loc) / self.scale\n",
    "#            dim = len(self.loc)\n",
    "#            V = np.sum( (y-self.loc)*(y-self.loc) ) / dim\n",
    "#            trace_term = dim*np.trace(np.linalg.inv(self.corrmat)*V)/2\n",
    "#            skew_term = np.sum( np.log(2*scipy.stats.norm.cdf(self.skew*(y-self.loc)/self.scale)) )\n",
    "#            return -dim*np.log(np.linalg.det(self.corrmat))/2 - trace_term + skew_term\n",
    "#        \n",
    "#    def pdf(self, x):\n",
    "#        if x.shape == (x.shape[0],):\n",
    "#            dim = len(self.loc)\n",
    "#            V = np.sum( (x-self.loc)*(x-self.loc) ) / dim\n",
    "#            skew_term = np.prod( 2*scipy.stats.norm.cdf(self.skew*(x-self.loc)/self.scale) )\n",
    "#            return np.linalg.det(self.corrmat)**(-dim/2) * np.exp(-dim*np.trace(np.linalg.inv(self.corrmat)*V)/2) * skew_term\n",
    "#            return np.exp(self.logpdf(x))\n",
    "#\n",
    "#        else:\n",
    "#            dim = x.shape[1]\n",
    "#            V = np.sum( (x-self.loc)*(x-self.loc), axis=1 ) / dim\n",
    "#            trace_term = np.trace(np.repeat([np.linalg.inv(self.corrmat)], x.shape[0], axis=0) * V[:, np.newaxis, np.newaxis], axis1=1, axis2=2)\n",
    "#            skew_term = np.prod( 2*scipy.stats.norm.cdf(self.skew*(x-self.loc)/self.scale), axis=1 )\n",
    "#            return np.linalg.det(self.corrmat)**(-dim/2) * np.exp(-dim*trace_term/2) * skew_term"
   ]
  },
  {
   "cell_type": "code",
   "execution_count": 2,
   "metadata": {},
   "outputs": [],
   "source": [
    "class multivariate_skew_normal():\n",
    "    def __init__(self, loc, sigplus, sigminus, corrmat):\n",
    "        loc = np.array(loc)\n",
    "        sigplus = np.array(sigplus)\n",
    "        sigminus = np.array(sigminus)\n",
    "        corrmat = np.array(corrmat)\n",
    "        self.loc = loc\n",
    "        self.skew = (sigplus-sigminus) / (sigplus+sigminus)\n",
    "        self.scale = np.diag( (sigplus+sigminus) / 2 )\n",
    "        self.covmat = self.scale @ corrmat @ self.scale\n",
    "        \n",
    "    def pdf(self, x):\n",
    "        x = np.array(x)\n",
    "        multinorm = scipy.stats.multivariate_normal.pdf(x-self.loc, mean=np.zeros(len(x)), cov=self.covmat)\n",
    "        cdf = scipy.stats.norm.cdf(self.skew@np.linalg.inv(self.scale)@(x-self.loc))\n",
    "        return 2 * multinorm * cdf"
   ]
  },
  {
   "cell_type": "code",
   "execution_count": 3,
   "metadata": {},
   "outputs": [],
   "source": [
    "loc = np.array([2,-1])\n",
    "sigplus = np.array([2, 1])\n",
    "sigminus = np.array([1, 4])\n",
    "corrmat = np.array([[1, 0.5], [0.5, 1]])\n",
    "a = multivariate_skew_normal(loc, sigplus, sigminus, corrmat)"
   ]
  },
  {
   "cell_type": "code",
   "execution_count": 5,
   "metadata": {},
   "outputs": [
    {
     "data": {
      "text/plain": [
       "0.17551344360943338"
      ]
     },
     "execution_count": 5,
     "metadata": {},
     "output_type": "execute_result"
    }
   ],
   "source": [
    "a.pdf(np.array([1,1]))"
   ]
  },
  {
   "cell_type": "code",
   "execution_count": 5,
   "metadata": {},
   "outputs": [
    {
     "data": {
      "text/plain": [
       "<a list of 6 text.Text objects>"
      ]
     },
     "execution_count": 5,
     "metadata": {},
     "output_type": "execute_result"
    },
    {
     "data": {
      "image/png": "[encoded data removed]",
      "text/plain": [
       "<Figure size 432x288 with 1 Axes>"
      ]
     },
     "metadata": {
      "needs_background": "light"
     },
     "output_type": "display_data"
    }
   ],
   "source": [
    "delta = 0.1\n",
    "x = np.arange(-1.0, 5.0, delta)\n",
    "y = np.arange(-8.0, 2.0, delta)\n",
    "X, Y = np.meshgrid(x, y)\n",
    "Z = [ a.pdf(np.array([X[i,j], Y[i,j]])) for i in range(X.shape[0]) for j in range(X.shape[1]) ]\n",
    "Z = np.array(Z).reshape(X.shape)\n",
    "fig, ax = plt.subplots()\n",
    "CS = ax.contour(X, Y, Z)\n",
    "ax.clabel(CS, inline=1, fontsize=10)\n",
    "#ax.set_xlim(0,15)"
   ]
  },
  {
   "cell_type": "code",
   "execution_count": null,
   "metadata": {},
   "outputs": [],
   "source": []
  }
 ],
 "metadata": {
  "kernelspec": {
   "display_name": "Python 3",
   "language": "python",
   "name": "python3"
  },
  "language_info": {
   "codemirror_mode": {
    "name": "ipython",
    "version": 3
   },
   "file_extension": ".py",
   "mimetype": "text/x-python",
   "name": "python",
   "nbconvert_exporter": "python",
   "pygments_lexer": "ipython3",
   "version": "3.8.5"
  }
 },
 "nbformat": 4,
 "nbformat_minor": 4
}
