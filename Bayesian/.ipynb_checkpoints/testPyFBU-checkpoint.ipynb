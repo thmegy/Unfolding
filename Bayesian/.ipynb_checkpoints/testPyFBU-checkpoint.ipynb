{
 "cells": [
  {
   "cell_type": "code",
   "execution_count": 45,
   "metadata": {},
   "outputs": [],
   "source": [
    "\n",
    "\n",
    "import fbu\n",
    "myfbu = fbu.PyFBU()\n",
    "\n"
   ]
  },
  {
   "cell_type": "code",
   "execution_count": 46,
   "metadata": {},
   "outputs": [],
   "source": [
    "#myfbu.data = [100,150]\n",
    "#myfbu.response = [[0.08,0.02], #first truth bin\n",
    "                  [0.02,0.08]] #second truth bin\n",
    "#myfbu.lower = [0,0]\n",
    "#myfbu.upper = [3000,3000]\n",
    "\n",
    "myfbu.data = [100]\n",
    "myfbu.response = [[0.08,0.02]]\n",
    "myfbu.lower = [0]\n",
    "myfbu.upper = [3000]\n"
   ]
  },
  {
   "cell_type": "code",
   "execution_count": 82,
   "metadata": {},
   "outputs": [],
   "source": [
    "#myfbu.objsyst = {\n",
    "#    'signal':{'syst1':[0.15,0.15]}\n",
    "#}\n",
    "\n",
    "myfbu.objsyst = {\n",
    "}"
   ]
  },
  {
   "cell_type": "code",
   "execution_count": 83,
   "metadata": {},
   "outputs": [
    {
     "name": "stderr",
     "output_type": "stream",
     "text": [
      "Auto-assigning NUTS sampler...\n",
      "Initializing NUTS using jitter+adapt_diag...\n"
     ]
    },
    {
     "name": "stdout",
     "output_type": "stream",
     "text": [
      "None\n"
     ]
    },
    {
     "name": "stderr",
     "output_type": "stream",
     "text": [
      "Sequential sampling (2 chains in 1 job)\n",
      "NUTS: [gaus_syst1, truth1, truth0]\n",
      "100%|██████████| 11000/11000 [00:10<00:00, 1007.95it/s]\n",
      "100%|██████████| 11000/11000 [00:10<00:00, 1053.45it/s]\n"
     ]
    },
    {
     "name": "stdout",
     "output_type": "stream",
     "text": [
      "Elapsed 0:00:22 (987.74 samples/second)\n"
     ]
    }
   ],
   "source": [
    "myfbu.run()"
   ]
  },
  {
   "cell_type": "code",
   "execution_count": 78,
   "metadata": {},
   "outputs": [],
   "source": [
    "nptrace = myfbu.nuisancestrace\n",
    "trace = myfbu.trace"
   ]
  },
  {
   "cell_type": "code",
   "execution_count": 79,
   "metadata": {},
   "outputs": [
    {
     "data": {
      "text/plain": [
       "{'syst1': array([ 0.1711266 ,  0.31672518,  0.36303803, ..., -2.37554656,\n",
       "        -2.11320595, -1.27170724])}"
      ]
     },
     "execution_count": 79,
     "metadata": {},
     "output_type": "execute_result"
    }
   ],
   "source": [
    "nptrace"
   ]
  },
  {
   "cell_type": "code",
   "execution_count": 80,
   "metadata": {},
   "outputs": [
    {
     "name": "stderr",
     "output_type": "stream",
     "text": [
      "/home/theo/anaconda3/lib/python3.7/site-packages/ipykernel_launcher.py:5: MatplotlibDeprecationWarning: \n",
      "The 'normed' kwarg was deprecated in Matplotlib 2.1 and will be removed in 3.1. Use 'density' instead.\n",
      "  \"\"\"\n"
     ]
    },
    {
     "data": {
      "text/plain": [
       "(array([0.00168008, 0.00855312, 0.03558707, 0.07438156, 0.13929359,\n",
       "        0.2054275 , 0.26697939, 0.3331133 , 0.39267963, 0.39619252,\n",
       "        0.36595115, 0.28164187, 0.22039545, 0.15349787, 0.08675303,\n",
       "        0.05299877, 0.02459021, 0.00885858, 0.0053457 , 0.00076367]),\n",
       " array([-3.12401056, -2.79664446, -2.46927836, -2.14191226, -1.81454616,\n",
       "        -1.48718006, -1.15981396, -0.83244787, -0.50508177, -0.17771567,\n",
       "         0.14965043,  0.47701653,  0.80438263,  1.13174872,  1.45911482,\n",
       "         1.78648092,  2.11384702,  2.44121312,  2.76857922,  3.09594532,\n",
       "         3.42331141]),\n",
       " <a list of 20 Patch objects>)"
      ]
     },
     "execution_count": 80,
     "metadata": {},
     "output_type": "execute_result"
    },
    {
     "data": {
      "image/png": "[encoded data removed]",
      "text/plain": [
       "<Figure size 432x288 with 1 Axes>"
      ]
     },
     "metadata": {
      "needs_background": "light"
     },
     "output_type": "display_data"
    }
   ],
   "source": [
    "%matplotlib inline\n",
    "from matplotlib import pyplot as plt\n",
    "plt.hist(nptrace['syst1'],\n",
    "         bins=20,alpha=0.85,\n",
    "         normed=True)"
   ]
  },
  {
   "cell_type": "code",
   "execution_count": 81,
   "metadata": {},
   "outputs": [
    {
     "data": {
      "text/plain": [
       "-0.11214286507126349"
      ]
     },
     "execution_count": 81,
     "metadata": {},
     "output_type": "execute_result"
    }
   ],
   "source": [
    "import numpy as np\n",
    "np.mean(nptrace['syst1'])"
   ]
  },
  {
   "cell_type": "code",
   "execution_count": 74,
   "metadata": {},
   "outputs": [
    {
     "data": {
      "text/plain": [
       "907.2510725650467"
      ]
     },
     "execution_count": 74,
     "metadata": {},
     "output_type": "execute_result"
    }
   ],
   "source": [
    "np.mean(trace[0])"
   ]
  },
  {
   "cell_type": "code",
   "execution_count": 75,
   "metadata": {},
   "outputs": [
    {
     "name": "stderr",
     "output_type": "stream",
     "text": [
      "Auto-assigning NUTS sampler...\n",
      "Initializing NUTS using jitter+adapt_diag...\n"
     ]
    },
    {
     "name": "stdout",
     "output_type": "stream",
     "text": [
      "None\n"
     ]
    },
    {
     "name": "stderr",
     "output_type": "stream",
     "text": [
      "Sequential sampling (2 chains in 1 job)\n",
      "NUTS: [gaus_syst1, truth1, truth0]\n",
      "100%|██████████| 11000/11000 [00:13<00:00, 842.01it/s]\n",
      "100%|██████████| 11000/11000 [00:13<00:00, 801.19it/s]\n",
      "There were 6 divergences after tuning. Increase `target_accept` or reparameterize.\n",
      "There were 7 divergences after tuning. Increase `target_accept` or reparameterize.\n",
      "The number of effective samples is smaller than 25% for some parameters.\n"
     ]
    },
    {
     "name": "stdout",
     "output_type": "stream",
     "text": [
      "Elapsed 0:00:27 (793.22 samples/second)\n"
     ]
    },
    {
     "data": {
      "text/plain": [
       "984.5946655487551"
      ]
     },
     "execution_count": 75,
     "metadata": {},
     "output_type": "execute_result"
    }
   ],
   "source": [
    "myfbu.objsyst = {\n",
    "    'signal':{'syst1':[0.25,0.25]}\n",
    "}\n",
    "myfbu.run()\n",
    "trace = myfbu.trace\n",
    "np.mean(trace[0])"
   ]
  },
  {
   "cell_type": "code",
   "execution_count": null,
   "metadata": {},
   "outputs": [],
   "source": []
  }
 ],
 "metadata": {
  "kernelspec": {
   "display_name": "Python 3",
   "language": "python",
   "name": "python3"
  },
  "language_info": {
   "codemirror_mode": {
    "name": "ipython",
    "version": 3
   },
   "file_extension": ".py",
   "mimetype": "text/x-python",
   "name": "python",
   "nbconvert_exporter": "python",
   "pygments_lexer": "ipython3",
   "version": "3.7.4"
  }
 },
 "nbformat": 4,
 "nbformat_minor": 2
}
